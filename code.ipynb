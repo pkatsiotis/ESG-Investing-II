{
 "cells": [
  {
   "cell_type": "code",
   "execution_count": 1,
   "metadata": {},
   "outputs": [],
   "source": [
    "import pandas as pd\n",
    "from fetch_data import get_sp_tickers, get_esg_data, get_stock_data"
   ]
  },
  {
   "cell_type": "code",
   "execution_count": 2,
   "metadata": {},
   "outputs": [],
   "source": [
    "initial_date = '2016-01-01'\n",
    "horizon = 1\n",
    "\n",
    "year_start = initial_date.split('-')[0]\n",
    "year_end = str(int(initial_date.split('-')[0]) + horizon)"
   ]
  },
  {
   "cell_type": "code",
   "execution_count": 3,
   "metadata": {},
   "outputs": [],
   "source": [
    "tickers = get_sp_tickers(initial_date)"
   ]
  },
  {
   "cell_type": "code",
   "execution_count": 29,
   "metadata": {},
   "outputs": [],
   "source": [
    "esg_df, e_df, s_df, g_df = get_esg_data(tickers, year_start, year_end)"
   ]
  },
  {
   "cell_type": "code",
   "execution_count": 30,
   "metadata": {},
   "outputs": [
    {
     "name": "stdout",
     "output_type": "stream",
     "text": [
      "ESG\n",
      "0     308\n",
      "24     12\n",
      "6       1\n",
      "dtype: int64\n",
      "\n",
      "E\n",
      "0     308\n",
      "24     12\n",
      "6       1\n",
      "dtype: int64\n",
      "\n",
      "S\n",
      "0     308\n",
      "24     12\n",
      "6       1\n",
      "dtype: int64\n",
      "\n",
      "G\n",
      "0     308\n",
      "24     12\n",
      "6       1\n",
      "dtype: int64\n",
      "\n"
     ]
    }
   ],
   "source": [
    "def miss_values(df):\n",
    "    print(df.isnull().sum().value_counts())\n",
    "    print()\n",
    "\n",
    "print('ESG')\n",
    "miss_values(esg_df)\n",
    "\n",
    "print('E')\n",
    "miss_values(e_df)\n",
    "\n",
    "print('S')\n",
    "miss_values(s_df)\n",
    "\n",
    "print('G')\n",
    "miss_values(g_df)"
   ]
  },
  {
   "cell_type": "code",
   "execution_count": 31,
   "metadata": {},
   "outputs": [],
   "source": [
    "def miss_cols(df):\n",
    "    cols = df.columns[df.isnull().any()]\n",
    "    return set(cols)\n",
    "\n",
    "esg_nan_cols = miss_cols(esg_df)\n",
    "e_nan_cols = miss_cols(e_df)\n",
    "s_nan_cols = miss_cols(s_df)\n",
    "g_nan_cols = miss_cols(g_df)\n",
    "\n",
    "all_nan_tickers = esg_nan_cols.union(e_nan_cols, s_nan_cols, g_nan_cols)\n",
    "\n",
    "esg_df = esg_df.drop(all_nan_tickers, axis=1)\n",
    "e_df = e_df.drop(all_nan_tickers, axis=1)\n",
    "s_df = s_df.drop(all_nan_tickers, axis=1)\n",
    "g_df = g_df.drop(all_nan_tickers, axis=1)"
   ]
  },
  {
   "cell_type": "code",
   "execution_count": 32,
   "metadata": {},
   "outputs": [],
   "source": [
    "tickers = list(esg_df.columns)"
   ]
  },
  {
   "cell_type": "code",
   "execution_count": 39,
   "metadata": {},
   "outputs": [],
   "source": [
    "stocks = get_stock_data(tickers, int(year_start), int(year_end))"
   ]
  },
  {
   "cell_type": "code",
   "execution_count": 41,
   "metadata": {},
   "outputs": [],
   "source": [
    "# stocks.to_csv('stocks.csv')"
   ]
  },
  {
   "cell_type": "code",
   "execution_count": null,
   "metadata": {},
   "outputs": [],
   "source": []
  },
  {
   "cell_type": "code",
   "execution_count": null,
   "metadata": {},
   "outputs": [],
   "source": []
  },
  {
   "cell_type": "code",
   "execution_count": null,
   "metadata": {},
   "outputs": [],
   "source": []
  },
  {
   "cell_type": "code",
   "execution_count": null,
   "metadata": {},
   "outputs": [],
   "source": []
  }
 ],
 "metadata": {
  "interpreter": {
   "hash": "849747bbcfaae040d99f19f5710b1483116c73400630ad7c58db1372ade79479"
  },
  "kernelspec": {
   "display_name": "Python 3.9.7 64-bit",
   "language": "python",
   "name": "python3"
  },
  "language_info": {
   "codemirror_mode": {
    "name": "ipython",
    "version": 3
   },
   "file_extension": ".py",
   "mimetype": "text/x-python",
   "name": "python",
   "nbconvert_exporter": "python",
   "pygments_lexer": "ipython3",
   "version": "3.9.7"
  },
  "orig_nbformat": 4
 },
 "nbformat": 4,
 "nbformat_minor": 2
}
